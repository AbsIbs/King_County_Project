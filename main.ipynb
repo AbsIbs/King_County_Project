{
  "nbformat": 4,
  "nbformat_minor": 0,
  "metadata": {
    "colab": {
      "name": "main.ipynb",
      "provenance": [],
      "collapsed_sections": [],
      "toc_visible": true
    },
    "kernelspec": {
      "name": "python3",
      "display_name": "Python 3"
    },
    "language_info": {
      "name": "python"
    },
    "accelerator": "GPU"
  },
  "cells": [
    {
      "cell_type": "markdown",
      "source": [
        "# **Kings County House Price Prediction Project**\n",
        "\n"
      ],
      "metadata": {
        "id": "-Udp3u32sMH6"
      }
    },
    {
      "cell_type": "markdown",
      "source": [
        "## **1.0 Business Overview**"
      ],
      "metadata": {
        "id": "Pjocth_jVdeP"
      }
    },
    {
      "cell_type": "markdown",
      "source": [
        "This aim of this project is to utilize linear regression techiques to predict final house sale prices in King County in Washington State. This includes major cities such as Seattle and Redmond. The project is from the perspective of being hypothetically commissioned by a local realty company in Seattle to produce a model to accurately predict sale prices. The company will then use these results to more judiciously consider what clients it takes on as well as to appropriately set fees, rates, commissions, and the like."
      ],
      "metadata": {
        "id": "AF4kmG18VYmD"
      }
    },
    {
      "cell_type": "markdown",
      "source": [
        "### **1.1 Project Details**"
      ],
      "metadata": {
        "id": "fTSm_MhaWQWm"
      }
    },
    {
      "cell_type": "markdown",
      "source": [
        "For this project we'll be producing both 2 types of regression models.\n",
        "- ***Inferential***: where we aim to understand how altering a feature affects the overall house price.\n",
        "- ***Predictive***: where we simply aim to predict the house price as accurately as possible.\n",
        "\n",
        "Our methodology for building models will will vary for each of these tasks."
      ],
      "metadata": {
        "id": "Px2LqFkFWQjO"
      }
    },
    {
      "cell_type": "markdown",
      "source": [
        "### **1.2 Data**"
      ],
      "metadata": {
        "id": "RY8-4cTaV-Ce"
      }
    },
    {
      "cell_type": "markdown",
      "source": [
        "- We utilized a dataset from the King County Assessor's public website, which lists house sale prices and other data for over 21,000 houses in the period from May 2014 - May 2015.\n",
        "\n",
        "- We also manually scraped data from UnitedStatesZipCodes.org for a number of additional datapoints and features."
      ],
      "metadata": {
        "id": "5SibggL-WFBG"
      }
    },
    {
      "cell_type": "markdown",
      "source": [
        "## **2.0 EDA**"
      ],
      "metadata": {
        "id": "fbs3PIU-s1gb"
      }
    },
    {
      "cell_type": "markdown",
      "source": [
        "### **2.1 Import initial libraries**\n"
      ],
      "metadata": {
        "id": "ch9tvJvGXUu-"
      }
    },
    {
      "cell_type": "code",
      "source": [
        "import pandas as pd\n",
        "import numpy as np\n",
        "import matplotlib.pyplot as plt\n",
        "import seaborn as sns\n",
        "sns.set_style('darkgrid')"
      ],
      "metadata": {
        "id": "GYBr463Hskhr"
      },
      "execution_count": 1,
      "outputs": []
    },
    {
      "cell_type": "code",
      "source": [
        "df = pd.read_csv('drive/MyDrive/DS_Projects/kc_house_project/data/kc_house_data.csv')\n",
        "df.head()"
      ],
      "metadata": {
        "id": "JHGe7lETsNob",
        "colab": {
          "base_uri": "https://localhost:8080/",
          "height": 369
        },
        "outputId": "5822eb34-d048-42e8-db1d-2546670afa8c"
      },
      "execution_count": 2,
      "outputs": [
        {
          "output_type": "execute_result",
          "data": {
            "text/plain": [
              "           id        date     price  bedrooms  bathrooms  sqft_living  \\\n",
              "0  7129300520  10/13/2014  221900.0         3       1.00         1180   \n",
              "1  6414100192   12/9/2014  538000.0         3       2.25         2570   \n",
              "2  5631500400   2/25/2015  180000.0         2       1.00          770   \n",
              "3  2487200875   12/9/2014  604000.0         4       3.00         1960   \n",
              "4  1954400510   2/18/2015  510000.0         3       2.00         1680   \n",
              "\n",
              "   sqft_lot  floors waterfront  view  ...          grade sqft_above  \\\n",
              "0      5650     1.0        NaN  NONE  ...      7 Average       1180   \n",
              "1      7242     2.0         NO  NONE  ...      7 Average       2170   \n",
              "2     10000     1.0         NO  NONE  ...  6 Low Average        770   \n",
              "3      5000     1.0         NO  NONE  ...      7 Average       1050   \n",
              "4      8080     1.0         NO  NONE  ...         8 Good       1680   \n",
              "\n",
              "   sqft_basement yr_built  yr_renovated  zipcode      lat     long  \\\n",
              "0            0.0     1955           0.0    98178  47.5112 -122.257   \n",
              "1          400.0     1951        1991.0    98125  47.7210 -122.319   \n",
              "2            0.0     1933           NaN    98028  47.7379 -122.233   \n",
              "3          910.0     1965           0.0    98136  47.5208 -122.393   \n",
              "4            0.0     1987           0.0    98074  47.6168 -122.045   \n",
              "\n",
              "   sqft_living15  sqft_lot15  \n",
              "0           1340        5650  \n",
              "1           1690        7639  \n",
              "2           2720        8062  \n",
              "3           1360        5000  \n",
              "4           1800        7503  \n",
              "\n",
              "[5 rows x 21 columns]"
            ],
            "text/html": [
              "\n",
              "  <div id=\"df-b4426378-32be-4a99-a6e7-9640f962b4f8\">\n",
              "    <div class=\"colab-df-container\">\n",
              "      <div>\n",
              "<style scoped>\n",
              "    .dataframe tbody tr th:only-of-type {\n",
              "        vertical-align: middle;\n",
              "    }\n",
              "\n",
              "    .dataframe tbody tr th {\n",
              "        vertical-align: top;\n",
              "    }\n",
              "\n",
              "    .dataframe thead th {\n",
              "        text-align: right;\n",
              "    }\n",
              "</style>\n",
              "<table border=\"1\" class=\"dataframe\">\n",
              "  <thead>\n",
              "    <tr style=\"text-align: right;\">\n",
              "      <th></th>\n",
              "      <th>id</th>\n",
              "      <th>date</th>\n",
              "      <th>price</th>\n",
              "      <th>bedrooms</th>\n",
              "      <th>bathrooms</th>\n",
              "      <th>sqft_living</th>\n",
              "      <th>sqft_lot</th>\n",
              "      <th>floors</th>\n",
              "      <th>waterfront</th>\n",
              "      <th>view</th>\n",
              "      <th>...</th>\n",
              "      <th>grade</th>\n",
              "      <th>sqft_above</th>\n",
              "      <th>sqft_basement</th>\n",
              "      <th>yr_built</th>\n",
              "      <th>yr_renovated</th>\n",
              "      <th>zipcode</th>\n",
              "      <th>lat</th>\n",
              "      <th>long</th>\n",
              "      <th>sqft_living15</th>\n",
              "      <th>sqft_lot15</th>\n",
              "    </tr>\n",
              "  </thead>\n",
              "  <tbody>\n",
              "    <tr>\n",
              "      <th>0</th>\n",
              "      <td>7129300520</td>\n",
              "      <td>10/13/2014</td>\n",
              "      <td>221900.0</td>\n",
              "      <td>3</td>\n",
              "      <td>1.00</td>\n",
              "      <td>1180</td>\n",
              "      <td>5650</td>\n",
              "      <td>1.0</td>\n",
              "      <td>NaN</td>\n",
              "      <td>NONE</td>\n",
              "      <td>...</td>\n",
              "      <td>7 Average</td>\n",
              "      <td>1180</td>\n",
              "      <td>0.0</td>\n",
              "      <td>1955</td>\n",
              "      <td>0.0</td>\n",
              "      <td>98178</td>\n",
              "      <td>47.5112</td>\n",
              "      <td>-122.257</td>\n",
              "      <td>1340</td>\n",
              "      <td>5650</td>\n",
              "    </tr>\n",
              "    <tr>\n",
              "      <th>1</th>\n",
              "      <td>6414100192</td>\n",
              "      <td>12/9/2014</td>\n",
              "      <td>538000.0</td>\n",
              "      <td>3</td>\n",
              "      <td>2.25</td>\n",
              "      <td>2570</td>\n",
              "      <td>7242</td>\n",
              "      <td>2.0</td>\n",
              "      <td>NO</td>\n",
              "      <td>NONE</td>\n",
              "      <td>...</td>\n",
              "      <td>7 Average</td>\n",
              "      <td>2170</td>\n",
              "      <td>400.0</td>\n",
              "      <td>1951</td>\n",
              "      <td>1991.0</td>\n",
              "      <td>98125</td>\n",
              "      <td>47.7210</td>\n",
              "      <td>-122.319</td>\n",
              "      <td>1690</td>\n",
              "      <td>7639</td>\n",
              "    </tr>\n",
              "    <tr>\n",
              "      <th>2</th>\n",
              "      <td>5631500400</td>\n",
              "      <td>2/25/2015</td>\n",
              "      <td>180000.0</td>\n",
              "      <td>2</td>\n",
              "      <td>1.00</td>\n",
              "      <td>770</td>\n",
              "      <td>10000</td>\n",
              "      <td>1.0</td>\n",
              "      <td>NO</td>\n",
              "      <td>NONE</td>\n",
              "      <td>...</td>\n",
              "      <td>6 Low Average</td>\n",
              "      <td>770</td>\n",
              "      <td>0.0</td>\n",
              "      <td>1933</td>\n",
              "      <td>NaN</td>\n",
              "      <td>98028</td>\n",
              "      <td>47.7379</td>\n",
              "      <td>-122.233</td>\n",
              "      <td>2720</td>\n",
              "      <td>8062</td>\n",
              "    </tr>\n",
              "    <tr>\n",
              "      <th>3</th>\n",
              "      <td>2487200875</td>\n",
              "      <td>12/9/2014</td>\n",
              "      <td>604000.0</td>\n",
              "      <td>4</td>\n",
              "      <td>3.00</td>\n",
              "      <td>1960</td>\n",
              "      <td>5000</td>\n",
              "      <td>1.0</td>\n",
              "      <td>NO</td>\n",
              "      <td>NONE</td>\n",
              "      <td>...</td>\n",
              "      <td>7 Average</td>\n",
              "      <td>1050</td>\n",
              "      <td>910.0</td>\n",
              "      <td>1965</td>\n",
              "      <td>0.0</td>\n",
              "      <td>98136</td>\n",
              "      <td>47.5208</td>\n",
              "      <td>-122.393</td>\n",
              "      <td>1360</td>\n",
              "      <td>5000</td>\n",
              "    </tr>\n",
              "    <tr>\n",
              "      <th>4</th>\n",
              "      <td>1954400510</td>\n",
              "      <td>2/18/2015</td>\n",
              "      <td>510000.0</td>\n",
              "      <td>3</td>\n",
              "      <td>2.00</td>\n",
              "      <td>1680</td>\n",
              "      <td>8080</td>\n",
              "      <td>1.0</td>\n",
              "      <td>NO</td>\n",
              "      <td>NONE</td>\n",
              "      <td>...</td>\n",
              "      <td>8 Good</td>\n",
              "      <td>1680</td>\n",
              "      <td>0.0</td>\n",
              "      <td>1987</td>\n",
              "      <td>0.0</td>\n",
              "      <td>98074</td>\n",
              "      <td>47.6168</td>\n",
              "      <td>-122.045</td>\n",
              "      <td>1800</td>\n",
              "      <td>7503</td>\n",
              "    </tr>\n",
              "  </tbody>\n",
              "</table>\n",
              "<p>5 rows × 21 columns</p>\n",
              "</div>\n",
              "      <button class=\"colab-df-convert\" onclick=\"convertToInteractive('df-b4426378-32be-4a99-a6e7-9640f962b4f8')\"\n",
              "              title=\"Convert this dataframe to an interactive table.\"\n",
              "              style=\"display:none;\">\n",
              "        \n",
              "  <svg xmlns=\"http://www.w3.org/2000/svg\" height=\"24px\"viewBox=\"0 0 24 24\"\n",
              "       width=\"24px\">\n",
              "    <path d=\"M0 0h24v24H0V0z\" fill=\"none\"/>\n",
              "    <path d=\"M18.56 5.44l.94 2.06.94-2.06 2.06-.94-2.06-.94-.94-2.06-.94 2.06-2.06.94zm-11 1L8.5 8.5l.94-2.06 2.06-.94-2.06-.94L8.5 2.5l-.94 2.06-2.06.94zm10 10l.94 2.06.94-2.06 2.06-.94-2.06-.94-.94-2.06-.94 2.06-2.06.94z\"/><path d=\"M17.41 7.96l-1.37-1.37c-.4-.4-.92-.59-1.43-.59-.52 0-1.04.2-1.43.59L10.3 9.45l-7.72 7.72c-.78.78-.78 2.05 0 2.83L4 21.41c.39.39.9.59 1.41.59.51 0 1.02-.2 1.41-.59l7.78-7.78 2.81-2.81c.8-.78.8-2.07 0-2.86zM5.41 20L4 18.59l7.72-7.72 1.47 1.35L5.41 20z\"/>\n",
              "  </svg>\n",
              "      </button>\n",
              "      \n",
              "  <style>\n",
              "    .colab-df-container {\n",
              "      display:flex;\n",
              "      flex-wrap:wrap;\n",
              "      gap: 12px;\n",
              "    }\n",
              "\n",
              "    .colab-df-convert {\n",
              "      background-color: #E8F0FE;\n",
              "      border: none;\n",
              "      border-radius: 50%;\n",
              "      cursor: pointer;\n",
              "      display: none;\n",
              "      fill: #1967D2;\n",
              "      height: 32px;\n",
              "      padding: 0 0 0 0;\n",
              "      width: 32px;\n",
              "    }\n",
              "\n",
              "    .colab-df-convert:hover {\n",
              "      background-color: #E2EBFA;\n",
              "      box-shadow: 0px 1px 2px rgba(60, 64, 67, 0.3), 0px 1px 3px 1px rgba(60, 64, 67, 0.15);\n",
              "      fill: #174EA6;\n",
              "    }\n",
              "\n",
              "    [theme=dark] .colab-df-convert {\n",
              "      background-color: #3B4455;\n",
              "      fill: #D2E3FC;\n",
              "    }\n",
              "\n",
              "    [theme=dark] .colab-df-convert:hover {\n",
              "      background-color: #434B5C;\n",
              "      box-shadow: 0px 1px 3px 1px rgba(0, 0, 0, 0.15);\n",
              "      filter: drop-shadow(0px 1px 2px rgba(0, 0, 0, 0.3));\n",
              "      fill: #FFFFFF;\n",
              "    }\n",
              "  </style>\n",
              "\n",
              "      <script>\n",
              "        const buttonEl =\n",
              "          document.querySelector('#df-b4426378-32be-4a99-a6e7-9640f962b4f8 button.colab-df-convert');\n",
              "        buttonEl.style.display =\n",
              "          google.colab.kernel.accessAllowed ? 'block' : 'none';\n",
              "\n",
              "        async function convertToInteractive(key) {\n",
              "          const element = document.querySelector('#df-b4426378-32be-4a99-a6e7-9640f962b4f8');\n",
              "          const dataTable =\n",
              "            await google.colab.kernel.invokeFunction('convertToInteractive',\n",
              "                                                     [key], {});\n",
              "          if (!dataTable) return;\n",
              "\n",
              "          const docLinkHtml = 'Like what you see? Visit the ' +\n",
              "            '<a target=\"_blank\" href=https://colab.research.google.com/notebooks/data_table.ipynb>data table notebook</a>'\n",
              "            + ' to learn more about interactive tables.';\n",
              "          element.innerHTML = '';\n",
              "          dataTable['output_type'] = 'display_data';\n",
              "          await google.colab.output.renderOutput(dataTable, element);\n",
              "          const docLink = document.createElement('div');\n",
              "          docLink.innerHTML = docLinkHtml;\n",
              "          element.appendChild(docLink);\n",
              "        }\n",
              "      </script>\n",
              "    </div>\n",
              "  </div>\n",
              "  "
            ]
          },
          "metadata": {},
          "execution_count": 2
        }
      ]
    },
    {
      "cell_type": "markdown",
      "source": [
        "### **2.2 Data Cleaning**"
      ],
      "metadata": {
        "id": "JsG-ztHVrbLm"
      }
    },
    {
      "cell_type": "markdown",
      "source": [
        "We should check to see if the datastypes for each column makes sense as well as check for **missing values**."
      ],
      "metadata": {
        "id": "-zn80B_VrohN"
      }
    },
    {
      "cell_type": "code",
      "source": [
        "# Checking for datatypes\n",
        "df.info()"
      ],
      "metadata": {
        "colab": {
          "base_uri": "https://localhost:8080/"
        },
        "id": "8JcxGb5JsNrC",
        "outputId": "aec8c480-ff92-4616-edb4-320050630362"
      },
      "execution_count": 3,
      "outputs": [
        {
          "output_type": "stream",
          "name": "stdout",
          "text": [
            "<class 'pandas.core.frame.DataFrame'>\n",
            "RangeIndex: 21597 entries, 0 to 21596\n",
            "Data columns (total 21 columns):\n",
            " #   Column         Non-Null Count  Dtype  \n",
            "---  ------         --------------  -----  \n",
            " 0   id             21597 non-null  int64  \n",
            " 1   date           21597 non-null  object \n",
            " 2   price          21597 non-null  float64\n",
            " 3   bedrooms       21597 non-null  int64  \n",
            " 4   bathrooms      21597 non-null  float64\n",
            " 5   sqft_living    21597 non-null  int64  \n",
            " 6   sqft_lot       21597 non-null  int64  \n",
            " 7   floors         21597 non-null  float64\n",
            " 8   waterfront     19221 non-null  object \n",
            " 9   view           21534 non-null  object \n",
            " 10  condition      21597 non-null  object \n",
            " 11  grade          21597 non-null  object \n",
            " 12  sqft_above     21597 non-null  int64  \n",
            " 13  sqft_basement  21597 non-null  object \n",
            " 14  yr_built       21597 non-null  int64  \n",
            " 15  yr_renovated   17755 non-null  float64\n",
            " 16  zipcode        21597 non-null  int64  \n",
            " 17  lat            21597 non-null  float64\n",
            " 18  long           21597 non-null  float64\n",
            " 19  sqft_living15  21597 non-null  int64  \n",
            " 20  sqft_lot15     21597 non-null  int64  \n",
            "dtypes: float64(6), int64(9), object(6)\n",
            "memory usage: 3.5+ MB\n"
          ]
        }
      ]
    },
    {
      "cell_type": "markdown",
      "source": [
        "***Quick Summary***\n",
        "- The **ID** column can be dropped so can date as we are not doing time series analysis.\n",
        "- We can also change **yr_renovated** to int64"
      ],
      "metadata": {
        "id": "ucrL5K93r9l_"
      }
    },
    {
      "cell_type": "code",
      "source": [
        "df = df.drop(['id', 'date'], axis = 1)"
      ],
      "metadata": {
        "id": "Ma8RYzHo-AJh"
      },
      "execution_count": 4,
      "outputs": []
    },
    {
      "cell_type": "code",
      "source": [
        "# Checking for na values\n",
        "na_dict = dict(df.isna().sum())\n",
        "\n",
        "na_list = []\n",
        "for key, value in na_dict.items():\n",
        "  if value > 0:\n",
        "    na_list.append({'name': key, 'na_values': value})\n",
        "\n",
        "# we see that these 3 columns have many missing values\n",
        "na_list"
      ],
      "metadata": {
        "id": "Qy-rIXQhsNt6",
        "colab": {
          "base_uri": "https://localhost:8080/"
        },
        "outputId": "0000e6b4-125b-469c-8aa6-9d025738c194"
      },
      "execution_count": 5,
      "outputs": [
        {
          "output_type": "execute_result",
          "data": {
            "text/plain": [
              "[{'na_values': 2376, 'name': 'waterfront'},\n",
              " {'na_values': 63, 'name': 'view'},\n",
              " {'na_values': 3842, 'name': 'yr_renovated'}]"
            ]
          },
          "metadata": {},
          "execution_count": 5
        }
      ]
    },
    {
      "cell_type": "markdown",
      "source": [
        "Let's look more into the missing values."
      ],
      "metadata": {
        "id": "R00LSOnE5pAi"
      }
    },
    {
      "cell_type": "code",
      "source": [
        "# investigating 'yr_renovated'\n",
        "df['yr_renovated'].value_counts()"
      ],
      "metadata": {
        "id": "-Wbv1_UjsNyi",
        "colab": {
          "base_uri": "https://localhost:8080/"
        },
        "outputId": "e2f560f7-0f5a-49ca-cf41-644d71e8db5c"
      },
      "execution_count": 6,
      "outputs": [
        {
          "output_type": "execute_result",
          "data": {
            "text/plain": [
              "0.0       17011\n",
              "2014.0       73\n",
              "2013.0       31\n",
              "2003.0       31\n",
              "2007.0       30\n",
              "          ...  \n",
              "1951.0        1\n",
              "1953.0        1\n",
              "1946.0        1\n",
              "1976.0        1\n",
              "1948.0        1\n",
              "Name: yr_renovated, Length: 70, dtype: int64"
            ]
          },
          "metadata": {},
          "execution_count": 6
        }
      ]
    },
    {
      "cell_type": "markdown",
      "source": [
        "We can see there are over 17,000 **0.0** values for year renovated. These represent houses that have not been renovated.\n",
        "\n",
        "Rather than specifying the year, we can alter the column to simply be **0.0** if the house has not been renovated or 1.0 if it has been renovated."
      ],
      "metadata": {
        "id": "2vOVGYYyYC6s"
      }
    },
    {
      "cell_type": "code",
      "source": [
        "df['yr_renovated'] = df['yr_renovated'].apply(lambda x: 1 if x != 0 else 0)\n",
        "df['yr_renovated'].value_counts()"
      ],
      "metadata": {
        "colab": {
          "base_uri": "https://localhost:8080/"
        },
        "id": "w0XhOZJI3QCQ",
        "outputId": "aa8059c6-b0ac-4c36-ee02-a74bf7ceb2c8"
      },
      "execution_count": 7,
      "outputs": [
        {
          "output_type": "execute_result",
          "data": {
            "text/plain": [
              "0    17011\n",
              "1     4586\n",
              "Name: yr_renovated, dtype: int64"
            ]
          },
          "metadata": {},
          "execution_count": 7
        }
      ]
    },
    {
      "cell_type": "code",
      "source": [
        "# investigating 'waterfront'\n",
        "df['waterfront'].value_counts()"
      ],
      "metadata": {
        "colab": {
          "base_uri": "https://localhost:8080/"
        },
        "id": "5rQaSIAy6f8J",
        "outputId": "027899f5-67de-41e6-f7bd-6b41052e7d2b"
      },
      "execution_count": 8,
      "outputs": [
        {
          "output_type": "execute_result",
          "data": {
            "text/plain": [
              "NO     19075\n",
              "YES      146\n",
              "Name: waterfront, dtype: int64"
            ]
          },
          "metadata": {},
          "execution_count": 8
        }
      ]
    },
    {
      "cell_type": "markdown",
      "source": [
        "Here, there is a very large imbalance between NO and YES. Setting the missing values to NO is the safest bet. <br>\n",
        "We will do this after doing train-test-split"
      ],
      "metadata": {
        "id": "_Lhy1wZl73j7"
      }
    },
    {
      "cell_type": "code",
      "source": [
        "# investigating 'view'\n",
        "df['view'].value_counts()"
      ],
      "metadata": {
        "colab": {
          "base_uri": "https://localhost:8080/"
        },
        "id": "1s1aP2qQ8T7Y",
        "outputId": "8f29bb22-f25e-40b7-c0c4-1086bdeeb58d"
      },
      "execution_count": 9,
      "outputs": [
        {
          "output_type": "execute_result",
          "data": {
            "text/plain": [
              "NONE         19422\n",
              "AVERAGE        957\n",
              "GOOD           508\n",
              "FAIR           330\n",
              "EXCELLENT      317\n",
              "Name: view, dtype: int64"
            ]
          },
          "metadata": {},
          "execution_count": 9
        }
      ]
    },
    {
      "cell_type": "markdown",
      "source": [
        "Again, we can set the 63 missing values to the modal class, 'NONE'.<br>\n",
        "Again, we will do this after train test split."
      ],
      "metadata": {
        "id": "oIRW32cG8c37"
      }
    },
    {
      "cell_type": "markdown",
      "source": [
        "### **2.3 Examining Distributions**"
      ],
      "metadata": {
        "id": "mh7ISoOK89oj"
      }
    },
    {
      "cell_type": "markdown",
      "source": [
        "This is most important when considering the assumptions for linear regression and identifying outliers."
      ],
      "metadata": {
        "id": "Zn7MjkNT9tur"
      }
    },
    {
      "cell_type": "code",
      "source": [
        "# Pairplot\n",
        "#sns.pairplot(data = df)"
      ],
      "metadata": {
        "id": "6pd5BFVW80Ra"
      },
      "execution_count": 10,
      "outputs": []
    },
    {
      "cell_type": "code",
      "source": [
        "sns.histplot(data = df, x = 'price');"
      ],
      "metadata": {
        "colab": {
          "base_uri": "https://localhost:8080/",
          "height": 279
        },
        "id": "zu7YYD2v80Wv",
        "outputId": "0b8bdc62-45a7-4fba-c1f9-e7b668f1f39c"
      },
      "execution_count": 11,
      "outputs": [
        {
          "output_type": "display_data",
          "data": {
            "text/plain": [
              "<Figure size 432x288 with 1 Axes>"
            ],
            "image/png": "[encoded data removed]"
          },
          "metadata": {
            "needs_background": "light"
          }
        }
      ]
    },
    {
      "cell_type": "markdown",
      "source": [
        "When we look at the graph above, we can see that the distribution is largely contained between 0 to 2,000,000. The graph exapands all the way out because of **outliers** <br>\n",
        "Let's take a closer look at them."
      ],
      "metadata": {
        "id": "gN47yVaw_l-S"
      }
    },
    {
      "cell_type": "code",
      "source": [
        "sns.violinplot(data = df, x = 'price');"
      ],
      "metadata": {
        "colab": {
          "base_uri": "https://localhost:8080/",
          "height": 279
        },
        "id": "RY5tMFzw8Yai",
        "outputId": "8f046757-e8db-44e3-cf22-d479e547ddee"
      },
      "execution_count": 12,
      "outputs": [
        {
          "output_type": "display_data",
          "data": {
            "text/plain": [
              "<Figure size 432x288 with 1 Axes>"
            ],
            "image/png": "[encoded data removed]"
          },
          "metadata": {
            "needs_background": "light"
          }
        }
      ]
    },
    {
      "cell_type": "code",
      "source": [
        "sns.boxplot(data = df, x = 'price');"
      ],
      "metadata": {
        "colab": {
          "base_uri": "https://localhost:8080/",
          "height": 279
        },
        "id": "FBG19j6oAV58",
        "outputId": "79ffa430-06d1-42a1-8706-fd74e05e03ce"
      },
      "execution_count": 13,
      "outputs": [
        {
          "output_type": "display_data",
          "data": {
            "text/plain": [
              "<Figure size 432x288 with 1 Axes>"
            ],
            "image/png": "[encoded data removed]"
          },
          "metadata": {
            "needs_background": "light"
          }
        }
      ]
    },
    {
      "cell_type": "markdown",
      "source": [
        "With the violin & box plots, it is clear that we are dealing with outliers beyond 1.1 million USD.<br>\n",
        "We can visualise the distribution of prices between 1.1m and the max amount."
      ],
      "metadata": {
        "id": "iMlP4jJJAStl"
      }
    },
    {
      "cell_type": "code",
      "source": [
        "sns.histplot(data = df[(df['price'].between(1100000,9000000))], x = 'price')"
      ],
      "metadata": {
        "colab": {
          "base_uri": "https://localhost:8080/",
          "height": 297
        },
        "id": "dqKzlVzC_k_0",
        "outputId": "4305bcd0-7b84-4cfa-c4d2-8d835cfb8747"
      },
      "execution_count": 14,
      "outputs": [
        {
          "output_type": "execute_result",
          "data": {
            "text/plain": [
              "<matplotlib.axes._subplots.AxesSubplot at 0x7faef4c96c90>"
            ]
          },
          "metadata": {},
          "execution_count": 14
        },
        {
          "output_type": "display_data",
          "data": {
            "text/plain": [
              "<Figure size 432x288 with 1 Axes>"
            ],
            "image/png": "[encoded data removed]"
          },
          "metadata": {
            "needs_background": "light"
          }
        }
      ]
    },
    {
      "cell_type": "markdown",
      "source": [
        "It seems there are outliers beyond 4 million."
      ],
      "metadata": {
        "id": "8yIehV9IX41s"
      }
    },
    {
      "cell_type": "code",
      "source": [
        "len(df[df['price'] > 4000000])"
      ],
      "metadata": {
        "colab": {
          "base_uri": "https://localhost:8080/"
        },
        "id": "Mw5oB6wmBw7j",
        "outputId": "15bf2cb5-9ea7-49ea-afbf-f9d0228b55dd"
      },
      "execution_count": 15,
      "outputs": [
        {
          "output_type": "execute_result",
          "data": {
            "text/plain": [
              "11"
            ]
          },
          "metadata": {},
          "execution_count": 15
        }
      ]
    },
    {
      "cell_type": "markdown",
      "source": [
        "As there are only 11 values beyond 4 million, we can delete them. <br>\n",
        "We'll then make 2 separate datasets:\n",
        "- one for modelling prices up to 1.1m\n",
        "- the other to model between 1.1m and 4m"
      ],
      "metadata": {
        "id": "sUvhERDiYGor"
      }
    },
    {
      "cell_type": "code",
      "source": [
        "# 1st dataset\n",
        "low_prices_df = df[df['price'].between(0, 1100000)]\n",
        "\n",
        "# 2nd dataset\n",
        "high_prices_df = df[df['price'].between(1100000, 4000000)]\n",
        "\n",
        "# 1st dataset\n",
        "f = plt.figure(figsize=(15,6))\n",
        "plt.subplot(1, 2, 1)\n",
        "ax1 = sns.histplot(low_prices_df, x = 'price')\n",
        "ax1.set_title('low house price histogram')\n",
        "ax1.set_xlabel('Price $mil');\n",
        "\n",
        "# 2nd dataset\n",
        "plt.subplot(1, 2, 2)\n",
        "ax2 = sns.histplot(high_prices_df, x = 'price')\n",
        "ax2.set_title('high house price histogram')\n",
        "ax2.set_xlabel('Price $mil');"
      ],
      "metadata": {
        "colab": {
          "base_uri": "https://localhost:8080/",
          "height": 290
        },
        "id": "e3UGRLaxX4Wy",
        "outputId": "612ee546-4cc2-46de-863e-1a9d9153bd5e"
      },
      "execution_count": 21,
      "outputs": [
        {
          "output_type": "display_data",
          "data": {
            "text/plain": [
              "<Figure size 1080x432 with 2 Axes>"
            ],
            "image/png": "[encoded data removed]"
          },
          "metadata": {
            "needs_background": "light"
          }
        }
      ]
    },
    {
      "cell_type": "markdown",
      "source": [
        "**Quick Analysis:** whilst we see that the graph on the left is normally distributed, the prices show a **skewed distribution**. We should keep this in mind when modelling."
      ],
      "metadata": {
        "id": "0FFhLZ_F5QRC"
      }
    },
    {
      "cell_type": "markdown",
      "source": [
        "## **3.0 Data Preparation**"
      ],
      "metadata": {
        "id": "lwKs7fc83B3F"
      }
    },
    {
      "cell_type": "markdown",
      "source": [
        "### **3.1 Feature Engineering**\n",
        "Now we are at a point where we can do some feature engineering for our dataset. <br>\n",
        "Firstly, we can do some webscraping to gather some more data specific to each **zipcode**."
      ],
      "metadata": {
        "id": "EtNLx5xQ4pAL"
      }
    },
    {
      "cell_type": "code",
      "source": [
        ""
      ],
      "metadata": {
        "id": "1KMo5iL_4t1U"
      },
      "execution_count": null,
      "outputs": []
    },
    {
      "cell_type": "markdown",
      "source": [
        "### **3.2 Train-test split**"
      ],
      "metadata": {
        "id": "3p9NrzlP3LWk"
      }
    },
    {
      "cell_type": "code",
      "source": [
        "from sklearn.model_selection import train_test_split"
      ],
      "metadata": {
        "id": "3MxYLrq7X4bm"
      },
      "execution_count": 22,
      "outputs": []
    },
    {
      "cell_type": "code",
      "source": [
        "# low price set\n",
        "X1 = low_prices_df.drop('price', axis = 1)\n",
        "y1 = low_prices_df['price']\n",
        "\n",
        "X_train1, X_test1, y_train1, y_test1 = train_test_split(X1, y1)\n",
        "\n"
      ],
      "metadata": {
        "id": "Hxq4FxMCX4d_"
      },
      "execution_count": 28,
      "outputs": []
    },
    {
      "cell_type": "code",
      "source": [
        "y_train1"
      ],
      "metadata": {
        "colab": {
          "base_uri": "https://localhost:8080/"
        },
        "id": "Vhyy95pZX4gj",
        "outputId": "1764ffae-7bd3-46ae-91fe-f015279939ba"
      },
      "execution_count": 27,
      "outputs": [
        {
          "output_type": "execute_result",
          "data": {
            "text/plain": [
              "19493    725000.0\n",
              "859      166600.0\n",
              "8580     775000.0\n",
              "8536     752000.0\n",
              "3110     850000.0\n",
              "           ...   \n",
              "11914    522500.0\n",
              "2603     300000.0\n",
              "9466     215000.0\n",
              "16188    185000.0\n",
              "14691    315000.0\n",
              "Name: price, Length: 15309, dtype: float64"
            ]
          },
          "metadata": {},
          "execution_count": 27
        }
      ]
    },
    {
      "cell_type": "code",
      "source": [
        "# high price set\n",
        "X2 = high_prices_df.drop('price', axis = 1)\n",
        "y2 = high_prices_df['price']\n",
        "\n",
        "X_train2, X_test2, y_train2, y_test2 = train_test_split(X2, y2)"
      ],
      "metadata": {
        "id": "MQZP0WYZdiiW"
      },
      "execution_count": null,
      "outputs": []
    },
    {
      "cell_type": "code",
      "source": [
        ""
      ],
      "metadata": {
        "id": "eSnRJF19dikw"
      },
      "execution_count": null,
      "outputs": []
    },
    {
      "cell_type": "code",
      "source": [
        ""
      ],
      "metadata": {
        "id": "IxByW6ogdinW"
      },
      "execution_count": null,
      "outputs": []
    },
    {
      "cell_type": "code",
      "source": [
        ""
      ],
      "metadata": {
        "id": "Zx62vE2RdiqS"
      },
      "execution_count": null,
      "outputs": []
    }
  ]
}